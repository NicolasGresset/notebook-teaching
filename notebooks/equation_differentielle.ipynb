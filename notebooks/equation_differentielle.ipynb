{
 "cells": [
  {
   "cell_type": "markdown",
   "metadata": {},
   "source": [
    "# Équations différentielles\n",
    "\n",
    "## Introduction\n",
    "\n",
    "Vous allez le voir en physique et en mathématiques cette année, on retrouve les équations différentielles dans des domaines variés comme la thermodynamique ou la cinétique des réactions. Il est important de comprendre leur fonctionnement et comment les résoudre.\n",
    "\n",
    "## Définition\n",
    "\n",
    "Une équation différentielle, est une équation dont l'inconnue n'est pas un chiffre, un réel $x\\in \\mathbb{R}$ mais plutôt une fonction.\n",
    "Cela change plusieurs choses : deux nombres $x_1$ et $x_2$ sont égaux si ils sont égaux (je ne vous apprends rien), mais deux fonctions $f_1$ et $f_2$ sont égales si et seulement si elles sont égales sur tout leur domaine de définition, c'est-à-dire si elles sont égales en tout point où elles sont définies.\n",
    "\n",
    "Une équation différentielle est donc une équation dont l'inconnue est une fonction, et qui fait intervenir la fonction et ses dérivées (première, seconde, nième, ...).\n",
    "\n",
    "Par exemple, \n",
    "\n",
    "$\\frac{df}{dx} + f = 0$\n",
    "\n",
    "est une équation différentielle, d'inconnue $f$ et qui fait intervenir la dérivée première de $f$ (par rapport à la variable $x$).\n",
    "\n",
    "## Classification des équations différentielles\n",
    "\n",
    "On distingue les équations différentielles selon le degré des dérivées qu'elles font intervenir : l'équation montrée précédemment est donc dite **du premier ordre** car la dérivée la plus élévée dans l'équation est une dérivée première.\n",
    "\n",
    "L'équation suivante : \n",
    "\n",
    "$\\frac{d^2f}{dx^2} + \\frac{df}{dx} +  f = 0$\n",
    "\n",
    "fait intervenir la dérivée seconde de $f$, c'est donc une équation différentielle du second ordre.\n",
    "\n",
    "En terminale, vous ne verrez que des équations du premier ordre en physique ou en maths (à confirmer pour les maths).\n",
    "\n",
    "\n",
    "## Résolution d'une équation différentielle du premier ordre\n",
    "\n",
    "On considère une équation différentielle du premier ordre d'inconnue $f$ :\n",
    "\n",
    "$\\alpha\\frac{df}{dt} + f = 0$\n",
    "\n",
    "On va la mettre sous forme *canonique*, c'est à dire sous une forme particulière sans coefficients multiplicatifs devant la dérivée : en divisant par $\\alpha$ des deux côtés du signe égal (on suppose $\\alpha$ non nul).\n",
    "\n",
    "d'où :\n",
    "\n",
    "$\\frac{df}{dt} + \\frac{1}{\\alpha}f = 0$\n",
    "\n",
    "Une solution à cette équation différentielle est : \n",
    "\n",
    "$f(t) = e^{\\frac{-t}{\\alpha}}$\n",
    "\n",
    "Vérifions que f est bien solution : \n",
    "\n",
    "$f$ est dérivable et sa dérivée est : \n",
    "\n",
    "$\\frac{df}{dt}(t) = \\frac{-1}{\\alpha}e^{\\frac{-t}{\\alpha}}$\n",
    "\n",
    "Donc \n",
    "\n",
    "$\\alpha\\frac{df}{dt}(t) + f(t) = \\alpha\\frac{-1}{\\alpha}e^{\\frac{-t}{\\alpha}} + e^{\\frac{-t}{\\alpha}} = 0$\n",
    "\n",
    "### Remarque\n",
    "\n",
    "En fait, cette solution n'est pas unique : toutes les fonctions proportionnelles à $f$, i.e les fonctions $g$ avec $\\exists k \\mid \\forall t,\\space g(t) = k*f(t)$ sont aussi solutions de l'équation différentielle. \n",
    "\n",
    "Voilà à quoi ressemblent certaines de ces fontions pour des valeurs de k : \n",
    "\n",
    "\n"
   ]
  },
  {
   "cell_type": "code",
   "execution_count": null,
   "metadata": {
    "vscode": {
     "languageId": "plaintext"
    }
   },
   "outputs": [],
   "source": []
  },
  {
   "cell_type": "markdown",
   "metadata": {},
   "source": [
    "Cependant, seule une peut correspondre à un problème physique : la température peut ne valoir qu'une valeur à un instant t. C'est là qu'interviennent les conditions initiales : pour trouver LA solution, il nous faut un point de passage de la courbe, par exemple la température à l'instant initial. Cela permet de trouver quelle valeur de k correspond à notre problème.\n",
    "\n",
    "Soit $f_0$ la valeur de $f$ à l'instant 0 : $f(0) = f_0$.\n",
    "\n",
    "Alors :\n",
    "\n",
    "$f(0) = k*e^{\\frac{-0}{\\alpha}} = k*e^0 = k*1 = k$\n",
    "\n",
    "Donc $f_0 = k$.\n",
    "\n",
    "Donc notre solution est : \n",
    "$f(t) = f_0e^{\\frac{-t}{\\alpha}}$"
   ]
  }
 ],
 "metadata": {
  "kernelspec": {
   "display_name": "Python 3 (ipykernel)",
   "language": "python",
   "name": "python3"
  },
  "language_info": {
   "codemirror_mode": {
    "name": "ipython",
    "version": 3
   },
   "file_extension": ".py",
   "mimetype": "text/x-python",
   "name": "python",
   "nbconvert_exporter": "python",
   "pygments_lexer": "ipython3",
   "version": "3.10.15"
  }
 },
 "nbformat": 4,
 "nbformat_minor": 4
}
